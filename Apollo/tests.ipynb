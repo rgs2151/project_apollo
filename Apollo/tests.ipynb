{
 "cells": [
  {
   "cell_type": "code",
   "execution_count": 1,
   "metadata": {},
   "outputs": [],
   "source": [
    "import sys\n",
    "sys.path.append(\"..\")\n",
    "\n",
    "from Conversation.serializers import *\n",
    "from Conversation.converse.core import Message\n",
    "from Conversation.converse.prompts import *\n",
    "from Conversation.converse.tools import *\n",
    "\n",
    "from turbochat.gptprompts import *\n",
    "\n",
    "import numpy as np\n",
    "import pandas as pd"
   ]
  },
  {
   "cell_type": "code",
   "execution_count": 2,
   "metadata": {},
   "outputs": [],
   "source": [
    "def collected_health_information_entries(entries):\n",
    "    df = pd.DataFrame(entries)\n",
    "    df.columns = [\"i_parameter_label\", \"parameter_type\", \"parameter_value\"]\n",
    "    return df\n",
    "\n",
    "CONVERSE_TOOLS = Tools([\n",
    "    {\n",
    "        \"name\": \"collected_health_information_entries\",\n",
    "        \"function\": collected_health_information_entries,\n",
    "        \"definition\": EXTRACT_USER_RELATED_INFO\n",
    "    }\n",
    "])"
   ]
  },
  {
   "cell_type": "code",
   "execution_count": 3,
   "metadata": {},
   "outputs": [],
   "source": [
    "        \n",
    "context = {\n",
    "    \"message\": \"I have diabetes\",\n",
    "    \"assistant_instructions\": \"\",\n",
    "    \"history\": \"\",\n",
    "    \"goals\": \"\",\n",
    "    \"events\": \"\",\n",
    "    \"doctors\": \"\",\n",
    "    \"doctors\": \"\"\n",
    "}\n",
    "\n",
    "message = Message(USER_PROMPT_DEFAULT, context, SYSTEM_MESSAGE, history=None, tools=CONVERSE_TOOLS)\n",
    "reply, tool_calls = message.get_results()\n",
    "\n",
    "\n"
   ]
  },
  {
   "cell_type": "code",
   "execution_count": 4,
   "metadata": {},
   "outputs": [
    {
     "data": {
      "text/plain": [
       "(\"I'm sorry to hear about your diabetes. How long have you been diagnosed with diabetes? Have you been able to manage it well? Have you had any recent medical tests or check-ups related to your diabetes? It's important to stay on top of your health when managing a condition like diabetes. Have you made any lifestyle changes to help control your blood sugar levels?\\n\",\n",
       " {'collected_health_information_entries': [  parameter_label     parameter_type parameter_value\n",
       "   0        diabetes  medical_condition         present]})"
      ]
     },
     "execution_count": 4,
     "metadata": {},
     "output_type": "execute_result"
    }
   ],
   "source": [
    "reply, tool_calls"
   ]
  },
  {
   "cell_type": "code",
   "execution_count": 12,
   "metadata": {},
   "outputs": [
    {
     "name": "stdout",
     "output_type": "stream",
     "text": [
      "[\n",
      "  {\n",
      "    \"parameter_label\": \"diabetes\",\n",
      "    \"parameter_type\": \"medical_condition\",\n",
      "    \"parameter_value\": \"present\"\n",
      "  }\n",
      "]\n"
     ]
    }
   ],
   "source": [
    "if tool_calls and \"collected_health_information_entries\" in tool_calls:\n",
    "    history = tool_calls[\"collected_health_information_entries\"][0]\n",
    "\n",
    "import json\n",
    "\n",
    "print(json.dumps(history.to_dict(\"records\"), indent=2))"
   ]
  }
 ],
 "metadata": {
  "kernelspec": {
   "display_name": "Python 3",
   "language": "python",
   "name": "python3"
  },
  "language_info": {
   "codemirror_mode": {
    "name": "ipython",
    "version": 3
   },
   "file_extension": ".py",
   "mimetype": "text/x-python",
   "name": "python",
   "nbconvert_exporter": "python",
   "pygments_lexer": "ipython3",
   "version": "3.12.4"
  }
 },
 "nbformat": 4,
 "nbformat_minor": 2
}
