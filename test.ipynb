{
 "cells": [
  {
   "cell_type": "code",
   "execution_count": 1,
   "metadata": {},
   "outputs": [
    {
     "name": "stderr",
     "output_type": "stream",
     "text": [
      "C:\\Users\\nagen\\AppData\\Local\\Packages\\PythonSoftwareFoundation.Python.3.12_qbz5n2kfra8p0\\LocalCache\\local-packages\\Python312\\site-packages\\sentence_transformers\\cross_encoder\\CrossEncoder.py:11: TqdmWarning: IProgress not found. Please update jupyter and ipywidgets. See https://ipywidgets.readthedocs.io/en/stable/user_install.html\n",
      "  from tqdm.autonotebook import tqdm, trange\n",
      "C:\\Users\\nagen\\AppData\\Local\\Packages\\PythonSoftwareFoundation.Python.3.12_qbz5n2kfra8p0\\LocalCache\\local-packages\\Python312\\site-packages\\threadpoolctl.py:1214: RuntimeWarning: \n",
      "Found Intel OpenMP ('libiomp') and LLVM OpenMP ('libomp') loaded at\n",
      "the same time. Both libraries are known to be incompatible and this\n",
      "can cause random crashes or deadlocks on Linux when loaded in the\n",
      "same Python program.\n",
      "Using threadpoolctl may cause crashes or deadlocks. For more\n",
      "information and possible workarounds, please see\n",
      "    https://github.com/joblib/threadpoolctl/blob/master/multiple_openmp.md\n",
      "\n",
      "  warnings.warn(msg, RuntimeWarning)\n"
     ]
    }
   ],
   "source": [
    "from health_gpt import *"
   ]
  },
  {
   "cell_type": "code",
   "execution_count": 18,
   "metadata": {},
   "outputs": [],
   "source": [
    "\n",
    "class Messages:\n",
    "    \n",
    "    def __init__(self, prompts: list) -> None:\n",
    "        self.__set_prompts(prompts) \n",
    "        \n",
    "    \n",
    "    def __set_prompts(self, prompts):\n",
    "        if not isinstance(prompts, list): raise TypeError\n",
    "        if not all(isinstance(prompt, Prompt) for prompt in prompts): raise TypeError\n",
    "        self.prompts = prompts\n",
    "\n",
    "    \n",
    "    def get_entries(self):\n",
    "        return [prompt.get_entry() for prompt in self.prompts]\n",
    "\n",
    "\n",
    "    def to_text(self):\n",
    "        entries = self.get_entries()\n",
    "        history_text = \"\\n\\n\"\n",
    "        for entry in entries:\n",
    "            history_text += f\"[{entry[\"role\"]}]\\n\"\n",
    "            history_text += f\"{entry[\"content\"]}\\n\\n\"\n",
    "        \n",
    "        return history_text\n",
    "\n",
    "\n",
    "    @classmethod\n",
    "    def from_text(cls, text):\n",
    "        sections = re.split(r'\\n\\[(.*?)\\]\\n', text)\n",
    "        sections = [section.replace(\"\\n\", \"\") for section in sections]\n",
    "        sections = [section for section in sections if section]\n",
    "        \n",
    "        result = []\n",
    "        for i in range(0, len(sections), 2):\n",
    "            key = sections[i].lower().strip()\n",
    "            content = sections[i + 1].strip()\n",
    "            if key == 'system': value = System(content)\n",
    "            elif key == 'user': value = User(content)\n",
    "            elif key == 'assistant': value = Assistant(content)\n",
    "            else: raise ValueError(f\"key: {key} not recognised\")\n",
    "        \n",
    "            result.append(value)\n",
    "        \n",
    "        return cls(result)\n",
    "\n",
    "\n",
    "    @classmethod\n",
    "    def from_txt_file(cls, file_path):\n",
    "        with open(file_path, 'r') as f:\n",
    "            return cls.from_text(f.read())\n",
    "\n"
   ]
  },
  {
   "cell_type": "code",
   "execution_count": 19,
   "metadata": {},
   "outputs": [],
   "source": [
    "msg = Messages.from_text(\"\"\"\n",
    "\n",
    "[user]\n",
    "user message\n",
    "                         \n",
    "[assistant]\n",
    "some assistant message\n",
    "\n",
    "\"\"\")"
   ]
  },
  {
   "cell_type": "code",
   "execution_count": 20,
   "metadata": {},
   "outputs": [
    {
     "name": "stdout",
     "output_type": "stream",
     "text": [
      "\n",
      "\n",
      "[user]\n",
      "user message\n",
      "\n",
      "[assistant]\n",
      "some assistant message\n",
      "\n",
      "\n"
     ]
    }
   ],
   "source": [
    "# msg.prompts[0].get_entry()\n",
    "\n",
    "print(msg.to_text())"
   ]
  },
  {
   "cell_type": "code",
   "execution_count": 25,
   "metadata": {},
   "outputs": [
    {
     "data": {
      "text/plain": [
       "['a', 'b', 'c', 'd', 'e', 'f', 'g']"
      ]
     },
     "execution_count": 25,
     "metadata": {},
     "output_type": "execute_result"
    }
   ],
   "source": [
    "a = list(\"abcdefg\")\n"
   ]
  }
 ],
 "metadata": {
  "kernelspec": {
   "display_name": "Python 3",
   "language": "python",
   "name": "python3"
  },
  "language_info": {
   "codemirror_mode": {
    "name": "ipython",
    "version": 3
   },
   "file_extension": ".py",
   "mimetype": "text/x-python",
   "name": "python",
   "nbconvert_exporter": "python",
   "pygments_lexer": "ipython3",
   "version": "3.12.4"
  }
 },
 "nbformat": 4,
 "nbformat_minor": 2
}
