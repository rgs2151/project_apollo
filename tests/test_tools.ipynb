{
 "cells": [
  {
   "cell_type": "code",
   "execution_count": 36,
   "metadata": {},
   "outputs": [],
   "source": [
    "import sys\n",
    "sys.path.append(\"..\")\n",
    "\n",
    "from turbochat.v1.prompt import GPTMsges, GPTToolPrompt\n",
    "from turbochat.v1.gpt import GPT, Msg, Tool\n",
    "from Apollo.Conversation.converse.prompts.user import PromptMaker\n",
    "\n",
    "import pandas as pd\n",
    "import json\n",
    "\n",
    "GPT_API_KEY_PATH = r\"C:\\Users\\nagen\\Desktop\\gpt\\project_apollo\\Apollo\\openai_key\""
   ]
  },
  {
   "cell_type": "code",
   "execution_count": 3,
   "metadata": {},
   "outputs": [],
   "source": [
    "# gpt api key\n",
    "with open(GPT_API_KEY_PATH, 'r') as f:\n",
    "    gpt = GPT(f.read())"
   ]
  },
  {
   "cell_type": "markdown",
   "metadata": {},
   "source": [
    "### tool definition"
   ]
  },
  {
   "cell_type": "code",
   "execution_count": 19,
   "metadata": {},
   "outputs": [],
   "source": [
    "DEFINTION = {\n",
    "    \"type\": \"function\",\n",
    "    \"function\": {\n",
    "        \"name\": \"extract_user_health_information_entry\",\n",
    "        \"description\": \"\"\"\n",
    "            This tool will run all the time to extract smallest of the user details in the specified format.\n",
    "            from user response, extracts information related to user's mental/physical health, medical information, habits, everything related to the user's health. Multiple information entries can be extracted.\n",
    "            All sorts of entries describing user's lifestyle, medication, state, symptoms is extracted.\n",
    "            Do not extract information about user goals.\n",
    "        \"\"\",\n",
    "        \"parameters\": {\n",
    "            \"type\": \"object\",\n",
    "            \"properties\": {\n",
    "                \"entries\": {\n",
    "                    \"type\": \"array\",\n",
    "                    \"description\": \"list of information entries\",\n",
    "                    \"items\": {\n",
    "                        \"type\": \"object\",\n",
    "                        \"properties\": {\n",
    "                            \n",
    "                            \"health_parameter\": {\n",
    "                                \"type\": \"string\",\n",
    "                                \"description\": \"\"\"\n",
    "                                    health parameter,\n",
    "                                    extracted perameter that will determine user's state / probles / conditions\n",
    "                                    Example: BMI, weight, height, heart rate, stress level, back pain, sleep schedule, etc,\n",
    "                                \"\"\"\n",
    "                            },\n",
    "                            \n",
    "                            \"health_parameter_category\": {\n",
    "                                \"type\": \"string\",\n",
    "                                \"description\": \"\"\"\n",
    "                                    category of health parameter propertie\n",
    "                                    Example: Diet, Report, Mental, Lifestyle, symptom, habit etc\n",
    "                                \"\"\"\n",
    "                            },\n",
    "                            \n",
    "                            \"health_parameter_value\": {\n",
    "                                \"type\": \"string\",\n",
    "                                \"description\": \"\"\"\n",
    "                                    value of health parameter propertie\n",
    "                                    Example: 127cm, 40Kg, High, Low, Irregular, balanced, bad breadth, severe etc.\n",
    "                                \"\"\"\n",
    "                            },\n",
    "                        \n",
    "                        },\n",
    "                        \"required\": [\n",
    "                            \"health_parameter\",\n",
    "                            \"health_parameter_category\",\n",
    "                            \"health_parameter_value\",\n",
    "                        ],\n",
    "                    }\n",
    "                }\n",
    "            },\n",
    "        },\n",
    "        \"required\": [\"entries\"],\n",
    "    },\n",
    "}\n",
    "\n",
    "TOOL_PROMPT = GPTToolPrompt(DEFINTION)"
   ]
  },
  {
   "cell_type": "markdown",
   "metadata": {},
   "source": [
    "### tool callable"
   ]
  },
  {
   "cell_type": "code",
   "execution_count": 51,
   "metadata": {},
   "outputs": [],
   "source": [
    "def get_callable_df_with_columns(columns):\n",
    "    def _callable(**kwargs):\n",
    "        data = kwargs[list(kwargs.keys())[0]]\n",
    "        df = pd.DataFrame(data)\n",
    "        df.columns = columns\n",
    "        return df\n",
    "    return _callable\n",
    "\n",
    "TOOL_CALLABLE = get_callable_df_with_columns([\"i_parameter_label\", \"parameter_type\", \"parameter_value\"])"
   ]
  },
  {
   "cell_type": "markdown",
   "metadata": {},
   "source": [
    "### user prompt"
   ]
  },
  {
   "cell_type": "code",
   "execution_count": 45,
   "metadata": {},
   "outputs": [
    {
     "name": "stdout",
     "output_type": "stream",
     "text": [
      "user prompt:\n",
      "I have sever depression\n"
     ]
    }
   ],
   "source": [
    "pm = PromptMaker({\n",
    "    \"user_prompt\": {\"label\": \"user prompt\"},\n",
    "    \"services\": {\"label\": \"Available services\"},\n",
    "    \"doctors\": {\"label\": \"Available doctors\"},\n",
    "    \"history\": {\"label\": \"User related information\"},\n",
    "})\n",
    "\n",
    "\n",
    "prompt = pm.get({\n",
    "    \"user_prompt\": \"I have sever depression\"\n",
    "})\n",
    "\n",
    "print(prompt)\n",
    "\n",
    "TOOL_MESSAGES = GPTMsges([{\n",
    "    \"role\": \"user\",\n",
    "    \"content\": [\n",
    "        {\n",
    "            \"type\": \"text\",\n",
    "            \"text\": prompt\n",
    "        }\n",
    "    ]\n",
    "}])"
   ]
  },
  {
   "cell_type": "markdown",
   "metadata": {},
   "source": [
    "### Tool Call"
   ]
  },
  {
   "cell_type": "code",
   "execution_count": 55,
   "metadata": {},
   "outputs": [],
   "source": [
    "tool = Tool(gpt, TOOL_MESSAGES, TOOL_PROMPT, TOOL_CALLABLE)"
   ]
  },
  {
   "cell_type": "code",
   "execution_count": 56,
   "metadata": {},
   "outputs": [],
   "source": [
    "response, tool_prompt, results = tool.call()"
   ]
  },
  {
   "cell_type": "code",
   "execution_count": 59,
   "metadata": {},
   "outputs": [
    {
     "data": {
      "text/html": [
       "<div>\n",
       "<style scoped>\n",
       "    .dataframe tbody tr th:only-of-type {\n",
       "        vertical-align: middle;\n",
       "    }\n",
       "\n",
       "    .dataframe tbody tr th {\n",
       "        vertical-align: top;\n",
       "    }\n",
       "\n",
       "    .dataframe thead th {\n",
       "        text-align: right;\n",
       "    }\n",
       "</style>\n",
       "<table border=\"1\" class=\"dataframe\">\n",
       "  <thead>\n",
       "    <tr style=\"text-align: right;\">\n",
       "      <th></th>\n",
       "      <th>i_parameter_label</th>\n",
       "      <th>parameter_type</th>\n",
       "      <th>parameter_value</th>\n",
       "    </tr>\n",
       "  </thead>\n",
       "  <tbody>\n",
       "    <tr>\n",
       "      <th>0</th>\n",
       "      <td>depression</td>\n",
       "      <td>Mental</td>\n",
       "      <td>severe</td>\n",
       "    </tr>\n",
       "  </tbody>\n",
       "</table>\n",
       "</div>"
      ],
      "text/plain": [
       "  i_parameter_label parameter_type parameter_value\n",
       "0        depression         Mental          severe"
      ]
     },
     "execution_count": 59,
     "metadata": {},
     "output_type": "execute_result"
    }
   ],
   "source": [
    "status, stash = results\n",
    "stash[\"extract_user_health_information_entry\"][0]"
   ]
  },
  {
   "cell_type": "code",
   "execution_count": null,
   "metadata": {},
   "outputs": [],
   "source": []
  }
 ],
 "metadata": {
  "kernelspec": {
   "display_name": "Python 3",
   "language": "python",
   "name": "python3"
  },
  "language_info": {
   "codemirror_mode": {
    "name": "ipython",
    "version": 3
   },
   "file_extension": ".py",
   "mimetype": "text/x-python",
   "name": "python",
   "nbconvert_exporter": "python",
   "pygments_lexer": "ipython3",
   "version": "3.12.4"
  }
 },
 "nbformat": 4,
 "nbformat_minor": 2
}
